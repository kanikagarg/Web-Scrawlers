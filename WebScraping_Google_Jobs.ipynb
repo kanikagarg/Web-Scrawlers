{
 "cells": [
  {
   "cell_type": "markdown",
   "metadata": {},
   "source": [
    "# Web Scraping Job Vacancies"
   ]
  },
  {
   "cell_type": "markdown",
   "metadata": {},
   "source": [
    "## Introduction\n",
    "\n",
    "In this project, we'll build a web scraper to extract job listings from a popular job search platform. We'll extract job titles, companies, locations, job descriptions, and other relevant information.\n",
    "\n",
    "Here are the main steps we'll follow in this project:\n",
    "\n",
    "1. Setup our development environment\n",
    "2. Understand the basics of web scraping\n",
    "3. Analyze the website structure of our job search platform\n",
    "4. Write the Python code to extract job data from our job search platform\n",
    "5. Save the data to a CSV file\n",
    "6. Test our web scraper and refine our code as needed\n",
    "\n",
    "## Prerequisites\n",
    "\n",
    "Before starting this project, you should have some basic knowledge of Python programming and HTML structure. In addition, you may want to use the following packages in your Python environment:\n",
    "\n",
    "- requests\n",
    "- BeautifulSoup\n",
    "- csv\n",
    "- datetime\n",
    "\n",
    "These packages should already be installed in Coursera's Jupyter Notebook environment, however if you'd like to install additional packages that are not included in this environment or are working off platform you can install additional packages using `!pip install packagename` within a notebook cell such as:\n",
    "\n",
    "- `!pip install requests`\n",
    "- `!pip install BeautifulSoup`"
   ]
  },
  {
   "cell_type": "markdown",
   "metadata": {},
   "source": [
    "#### Objective:\n",
    "To develop a web scraping tool that retrieves job postings from Google's career website based on a specified role. The tool will extract job title, location, seniority level, and minimum requirements, providing this information to users efficiently.\n",
    "\n",
    "#### Project Steps:\n",
    "\n",
    "##### 1. Requirements Gathering\n",
    "Understand User Needs: Determine the specific roles and job details users are interested in.\n",
    "Target Website: Identify the structure of Google's career website and the specific pages to scrape.\n",
    "\n",
    "##### 2. Tool Selection\n",
    "Web Scraping Tools: Use libraries like BeautifulSoup, Scrapy, or Selenium.\n",
    "BeautifulSoup: For parsing HTML and XML documents.\n",
    "Scrapy: For more advanced crawling and scraping needs.\n",
    "Selenium: For dynamic content rendering that requires JavaScript.\n",
    "\n",
    "##### 3. Data Fields to Extract\n",
    "Job \n",
    "\n",
    "Title\n",
    "\n",
    "Location\n",
    "\n",
    "Seniority Level\n",
    "\n",
    "Minimum Requirements"
   ]
  },
  {
   "cell_type": "markdown",
   "metadata": {},
   "source": [
    "## Step 1: Importing Required Libraries"
   ]
  },
  {
   "cell_type": "code",
   "execution_count": 1,
   "metadata": {},
   "outputs": [
    {
     "name": "stdout",
     "output_type": "stream",
     "text": [
      "Requirement already satisfied: requests in /opt/conda/lib/python3.7/site-packages (2.23.0)\n",
      "Requirement already satisfied: idna<3,>=2.5 in /opt/conda/lib/python3.7/site-packages (from requests) (2.9)\n",
      "Requirement already satisfied: urllib3!=1.25.0,!=1.25.1,<1.26,>=1.21.1 in /opt/conda/lib/python3.7/site-packages (from requests) (1.25.9)\n",
      "Requirement already satisfied: certifi>=2017.4.17 in /opt/conda/lib/python3.7/site-packages (from requests) (2020.4.5.1)\n",
      "Requirement already satisfied: chardet<4,>=3.0.2 in /opt/conda/lib/python3.7/site-packages (from requests) (3.0.4)\n",
      "\u001b[33mWARNING: You are using pip version 21.3.1; however, version 24.0 is available.\n",
      "You should consider upgrading via the '/opt/conda/bin/python3 -m pip install --upgrade pip' command.\u001b[0m\n"
     ]
    }
   ],
   "source": [
    "!pip install requests"
   ]
  },
  {
   "cell_type": "code",
   "execution_count": 2,
   "metadata": {},
   "outputs": [
    {
     "name": "stdout",
     "output_type": "stream",
     "text": [
      "Requirement already satisfied: beautifulsoup4 in /opt/conda/lib/python3.7/site-packages (4.9.0)\n",
      "Requirement already satisfied: soupsieve>1.2 in /opt/conda/lib/python3.7/site-packages (from beautifulsoup4) (1.9.4)\n",
      "\u001b[33mWARNING: You are using pip version 21.3.1; however, version 24.0 is available.\n",
      "You should consider upgrading via the '/opt/conda/bin/python3 -m pip install --upgrade pip' command.\u001b[0m\n"
     ]
    }
   ],
   "source": [
    "!pip install beautifulsoup4"
   ]
  },
  {
   "cell_type": "code",
   "execution_count": 3,
   "metadata": {},
   "outputs": [],
   "source": [
    "def create_url(url, position, site):\n",
    "    if site.lower() == \"google\":\n",
    "        return url + \"/?q=%22\"+ \"%20\".join(position.split())+\"%22\"\n",
    "    else: \n",
    "        return url"
   ]
  },
  {
   "cell_type": "code",
   "execution_count": 4,
   "metadata": {},
   "outputs": [
    {
     "name": "stdout",
     "output_type": "stream",
     "text": [
      "Enter the job role you are interested in: Software Engineer II\n"
     ]
    }
   ],
   "source": [
    "position = input(\"Enter the job role you are interested in: \")"
   ]
  },
  {
   "cell_type": "code",
   "execution_count": 5,
   "metadata": {},
   "outputs": [
    {
     "name": "stdout",
     "output_type": "stream",
     "text": [
      "https://www.google.com/about/careers/applications/jobs/results/?q=%22Software%20Engineer%20II%22\n"
     ]
    }
   ],
   "source": [
    "url = \"https://www.google.com/about/careers/applications/jobs/results\"\n",
    "\n",
    "query_url = create_url(url,position, \"Google\")\n",
    "print(query_url)"
   ]
  },
  {
   "cell_type": "code",
   "execution_count": 6,
   "metadata": {},
   "outputs": [],
   "source": [
    "\n",
    "import requests \n",
    "\n",
    "r = requests.get(query_url) \n",
    "# print(r.content) "
   ]
  },
  {
   "cell_type": "code",
   "execution_count": 7,
   "metadata": {},
   "outputs": [],
   "source": [
    "# Above it the raw data\n",
    "from bs4 import BeautifulSoup\n"
   ]
  },
  {
   "cell_type": "code",
   "execution_count": 8,
   "metadata": {},
   "outputs": [],
   "source": [
    "soup = BeautifulSoup(r.content, 'html.parser')"
   ]
  },
  {
   "cell_type": "code",
   "execution_count": 9,
   "metadata": {},
   "outputs": [],
   "source": [
    "positions_soup = []\n",
    "for pos in soup.find_all(\"div\"):\n",
    "    if \"class\" in pos.attrs:\n",
    "        if \"sMn82b\" in pos[\"class\"]:\n",
    "            positions_soup.append(pos)"
   ]
  },
  {
   "cell_type": "code",
   "execution_count": 10,
   "metadata": {},
   "outputs": [],
   "source": [
    "openings = []\n",
    "for pos in  positions_soup:\n",
    "    ch=[]\n",
    "    for child in pos.children:\n",
    "        ch.append(child)\n",
    "#     print(ch[0].div.h3.string)\n",
    "    \n",
    "    spans=[]\n",
    "\n",
    "    for span in ch[1].div.children:\n",
    "        spans.append(span)\n",
    "    locations = []\n",
    "    for loc in spans[1].children:\n",
    "        locations.append(loc.string)\n",
    "        \n",
    "    seniority = spans[2].span.div.button.span.string\n",
    "    \n",
    "    requirements= []\n",
    "    \n",
    "    for c in ch[3].ul.children:\n",
    "        if \"<class 'bs4.element.NavigableString'>\" != str(type(c)):\n",
    "            requirements.append(c.text)\n",
    "    \n",
    "    openings.append({\"title\":ch[0].div.h3.string, \"locations\":locations, \"seniority\":seniority, \"requirements\":requirements})\n",
    "    \n"
   ]
  },
  {
   "cell_type": "markdown",
   "metadata": {},
   "source": [
    "## Printing the data"
   ]
  },
  {
   "cell_type": "code",
   "execution_count": 11,
   "metadata": {},
   "outputs": [
    {
     "name": "stdout",
     "output_type": "stream",
     "text": [
      "\n",
      "Position        :       Software Engineer II, Site Reliability Engineering, Google Cloud\n",
      "\n",
      "Seniority level     :      Early \n",
      "\n",
      "Opening at         :          place Dublin, Ireland ; San Bruno, CA, USA \n",
      "\n",
      "Minimum Requirements      :       \n",
      " Bachelor’s degree in Computer Science, a related field, or equivalent practical experience.\n",
      " Experience with data structures/algorithms and software development in one or more programming languages. \n",
      " \n",
      "\n",
      " ----------------------------------------------------------------------------------------------------\n",
      "\n",
      "Position        :       Software Engineer II, Engineering Productivity, YouTube\n",
      "\n",
      "Seniority level     :      Early \n",
      "\n",
      "Opening at         :          place Bengaluru, Karnataka, India \n",
      "\n",
      "Minimum Requirements      :       \n",
      " Bachelor’s degree or equivalent practical experience.\n",
      " 1 year of experience with software development in one or more programming languages (e.g., Python, C, C++, Java, JavaScript)\n",
      " 1 year of experience with data structures or algorithms.\n",
      " \n",
      "\n",
      " ----------------------------------------------------------------------------------------------------\n",
      "\n",
      "Position        :       Software Engineer II, Site Reliability Engineering\n",
      "\n",
      "Seniority level     :      Early \n",
      "\n",
      "Opening at         :          place London, UK \n",
      "\n",
      "Minimum Requirements      :       \n",
      " Bachelor’s degree in Computer Science, a related field, or equivalent practical experience.\n",
      " Experience with data structures/algorithms and software development in one or more programming languages. \n",
      " \n",
      "\n",
      " ----------------------------------------------------------------------------------------------------\n",
      "\n",
      "Position        :       Software Engineer II, Mobile, Android\n",
      "\n",
      "Seniority level     :      Early \n",
      "\n",
      "Opening at         :          place London, UK \n",
      "\n",
      "Minimum Requirements      :       \n",
      " Bachelor’s degree or equivalent practical experience.\n",
      " 1 year of experience with software development in one or more programming languages (e.g., Python, C, C++, Java, JavaScript).\n",
      " 1 year of experience with data structures or algorithms.\n",
      " \n",
      "\n",
      " ----------------------------------------------------------------------------------------------------\n",
      "\n",
      "Position        :       Software Engineer II, Devices Software\n",
      "\n",
      "Seniority level     :      Early \n",
      "\n",
      "Opening at         :          place Shanghai, China \n",
      "\n",
      "Minimum Requirements      :       \n",
      " Bachelor’s degree or equivalent practical experience.\n",
      " 1 year of experience with software development in one or more programming languages (e.g., Python, C, C++, Java, JavaScript).\n",
      " \n",
      "\n",
      " ----------------------------------------------------------------------------------------------------\n",
      "\n",
      "Position        :       Software Engineer II, Full Stack\n",
      "\n",
      "Seniority level     :      Early \n",
      "\n",
      "Opening at         :          place Mexico City, CDMX, Mexico \n",
      "\n",
      "Minimum Requirements      :       \n",
      " Bachelor’s degree or equivalent practical experience.\n",
      " 1 year of experience with software development in one or more programming languages (e.g., Python, C, C++, Java, JavaScript).\n",
      " 1 year of experience with data structures or algorithms.\n",
      " 1 year of experience with full-stack development, across the back-end such as Java, Python, GO, or C++ code bases, and front-end including JavaScript or TypeScript, HTML, CSS or equivalent.\n",
      " \n",
      "\n",
      " ----------------------------------------------------------------------------------------------------\n",
      "\n",
      "Position        :       Software Engineer II, Engineering Productivity, Media Quality\n",
      "\n",
      "Seniority level     :      Early \n",
      "\n",
      "Opening at         :          place Stockholm, Sweden \n",
      "\n",
      "Minimum Requirements      :       \n",
      " Bachelor's degree or equivalent practical experience.\n",
      " 1 year of experience with software development in one or more programming languages (e.g., Python, C, C++, Java, JavaScript).\n",
      " 1 year of experience with data structures or algorithms.\n",
      " \n",
      "\n",
      " ----------------------------------------------------------------------------------------------------\n",
      "\n",
      "Position        :       Software Engineer II, Search\n",
      "\n",
      "Seniority level     :      Early \n",
      "\n",
      "Opening at         :          place Belo Horizonte, State of Minas Gerais, Brazil \n",
      "\n",
      "Minimum Requirements      :       \n",
      " Bachelor’s degree or equivalent practical experience.\n",
      " 1 year of experience with software development in one or more programming languages (e.g., Python, C, C++, Java, JavaScript).\n",
      " Ability to communicate in English fluently. \n",
      " \n",
      "\n",
      " ----------------------------------------------------------------------------------------------------\n",
      "\n",
      "Position        :       Software Engineer II, Full Stack, Google Cloud\n",
      "\n",
      "Seniority level     :      Early \n",
      "\n",
      "Opening at         :          place Warsaw, Poland \n",
      "\n",
      "Minimum Requirements      :       \n",
      " Bachelor’s degree or equivalent practical experience.\n",
      " Experience with software development in one or more programming languages (e.g., Python, C, C++, Java, JavaScript).\n",
      " Experience with full stack development, across back-end such as Java, Python, GO, and/or C++ codebases, and front-end experience including JavaScript and/or TypeScript, HTML, CSS or equivalent.\n",
      " \n",
      "\n",
      " ----------------------------------------------------------------------------------------------------\n",
      "\n",
      "Position        :       Software Engineer II, Google Cloud\n",
      "\n",
      "Seniority level     :      Early \n",
      "\n",
      "Opening at         :          place Málaga, Spain \n",
      "\n",
      "Minimum Requirements      :       \n",
      " Bachelor’s degree or equivalent practical experience.\n",
      " 1 year of experience with software development in one or more programming languages (e.g., Python, C, C++, Java, JavaScript).\n",
      " 1 year of experience with data structures or algorithms.\n",
      " \n",
      "\n",
      " ----------------------------------------------------------------------------------------------------\n",
      "\n",
      "Position        :       Software Engineer II, Google Cloud, Search\n",
      "\n",
      "Seniority level     :      Early \n",
      "\n",
      "Opening at         :          place Warsaw, Poland \n",
      "\n",
      "Minimum Requirements      :       \n",
      " Bachelor’s degree or equivalent practical experience.\n",
      " 1 year of experience with data structures and algorithms.\n",
      " Experience with software development in one or more programming languages (e.g., Python, C, C++, Java, JavaScript). \n",
      " \n",
      "\n",
      " ----------------------------------------------------------------------------------------------------\n",
      "\n",
      "Position        :       Software Engineer II, Machine Learning, Google Cloud\n",
      "\n",
      "Seniority level     :      Early \n",
      "\n",
      "Opening at         :          place Warsaw, Poland \n",
      "\n",
      "Minimum Requirements      :       \n",
      " Bachelor’s degree or equivalent practical experience.\n",
      "\n",
      "\n",
      " Experience with software development in one or more programming languages, or experience with an advanced degree.\n",
      " Experience with data structures or algorithms in either an academic or industry setting.\n",
      "\n",
      " \n",
      "\n",
      " ----------------------------------------------------------------------------------------------------\n",
      "\n",
      "Position        :       Software Engineer II, Infrastructure, Corporate Engineering\n",
      "\n",
      "Seniority level     :      Early \n",
      "\n",
      "Opening at         :          place Hyderabad, Telangana, India \n",
      "\n",
      "Minimum Requirements      :       \n",
      " Bachelor’s degree or equivalent practical experience.\n",
      " 1 year of experience with software development in one or more programming languages (e.g., Python, C, C++, Java, JavaScript).\n",
      " \n",
      "\n",
      " ----------------------------------------------------------------------------------------------------\n",
      "\n",
      "Position        :       Software Engineer II, Front End, Chrome OS\n",
      "\n",
      "Seniority level     :      Early \n",
      "\n",
      "Opening at         :          place Warsaw, Poland \n",
      "\n",
      "Minimum Requirements      :       \n",
      " Bachelor’s degree or equivalent practical experience.\n",
      " Candidates will typically have 1 year of experience with software development in one or more programming languages (e.g., Python, C, C++, Java, JavaScript).\n",
      " Experience with front-end frameworks, full-stack development, or API development.\n",
      " \n",
      "\n",
      " ----------------------------------------------------------------------------------------------------\n",
      "\n",
      "Position        :       Software Engineer II, Chrome\n",
      "\n",
      "Seniority level     :      Early \n",
      "\n",
      "Opening at         :          place Warsaw, Poland \n",
      "\n",
      "Minimum Requirements      :       \n",
      " Bachelor’s degree or equivalent practical experience.\n",
      " Experience with software development in one or more programming languages (e.g., Python, C, C++, Java, JavaScript).\n",
      " \n",
      "\n",
      " ----------------------------------------------------------------------------------------------------\n",
      "\n",
      "Position        :       Software Engineer II, Infrastructure, Google Cloud\n",
      "\n",
      "Seniority level     :      Early \n",
      "\n",
      "Opening at         :          place Warsaw, Poland \n",
      "\n",
      "Minimum Requirements      :       \n",
      " Bachelor’s degree or equivalent practical experience.\n",
      " Experience with software development in one or more programming languages, or experience with an advanced degree.\n",
      "\n",
      " Experience with data structures or algorithms in either an academic or industry setting.\n",
      " \n",
      "\n",
      " ----------------------------------------------------------------------------------------------------\n",
      "\n",
      "Position        :       Software Engineer II, Machine Learning, Geo\n",
      "\n",
      "Seniority level     :      Early \n",
      "\n",
      "Opening at         :          place Bengaluru, Karnataka, India \n",
      "\n",
      "Minimum Requirements      :       \n",
      " Bachelor’s degree or equivalent practical experience.\n",
      " 1 year of experience with software development in one or more programming languages (e.g., Python, C, C++, Java, JavaScript).\n",
      " 1 year of experience with data structures or algorithms.\n",
      " \n",
      "\n",
      " ----------------------------------------------------------------------------------------------------\n",
      "\n",
      "Position        :       Software Engineer II, Full Stack, Google Cloud\n",
      "\n",
      "Seniority level     :      Early \n",
      "\n",
      "Opening at         :          place Bangalore, Karnataka, India ; Hyderabad, Telangana, India \n",
      "\n",
      "Minimum Requirements      :       \n",
      " Bachelor’s degree or equivalent practical experience.\n",
      "\n",
      " 1 year of experience with software development in one or more programming languages (e.g., Python, C, C++, Java, Javascript).\n",
      " 1 year of experience with data structures or algorithms.\n",
      " \n",
      "\n",
      " ----------------------------------------------------------------------------------------------------\n",
      "\n",
      "Position        :       Software Engineer II, Mobile (Android), Fitbit\n",
      "\n",
      "Seniority level     :      Early \n",
      "\n",
      "Opening at         :          place Warsaw, Poland \n",
      "\n",
      "Minimum Requirements      :       \n",
      " Bachelor’s degree or equivalent practical experience.\n",
      "\n",
      " Experience with software development in one or more programming languages, or experience with an advanced degree.\n",
      " Experience with data structures or algorithms in either an academic or industry setting.\n",
      "\n",
      " \n",
      "\n",
      " ----------------------------------------------------------------------------------------------------\n",
      "\n",
      "Position        :       Software Engineer II, Infrastructure, Google Cloud\n",
      "\n",
      "Seniority level     :      Early \n",
      "\n",
      "Opening at         :          place Bengaluru, Karnataka, India \n",
      "\n",
      "Minimum Requirements      :       \n",
      " Bachelor’s degree or equivalent practical experience.\n",
      " 1 year of experience with software development in one or more programming languages (e.g., Python, C, C++, Java, JavaScript).\n",
      " 1 year of experience with data structures or algorithms.\n",
      " \n",
      "\n",
      " ----------------------------------------------------------------------------------------------------\n"
     ]
    }
   ],
   "source": [
    "for pos in openings:\n",
    "    res = f'\\nPosition        :       {pos[\"title\"]}\\n\\nSeniority level     :      {pos[\"seniority\"]} \\n\\nOpening at         :          '\n",
    "    for loc in pos[\"locations\"]:\n",
    "        res+=loc+\" \"\n",
    "    res+=\"\\n\\nMinimum Requirements      :       \\n \"\n",
    "    for req in pos[\"requirements\"]:\n",
    "        res+=req+ \"\\n \"\n",
    "    res+=\"\\n\\n \"+ \"-\"*100\n",
    "    print(res)"
   ]
  },
  {
   "cell_type": "markdown",
   "metadata": {},
   "source": [
    "## Transformation of data extracted: "
   ]
  },
  {
   "cell_type": "code",
   "execution_count": 12,
   "metadata": {},
   "outputs": [],
   "source": [
    "data_in_csv_format = \"title,Seniority,Locations,minimun requirements\\n\\r\"\n",
    "\n",
    "for pos in openings:\n",
    "    data_in_csv_format+= \" \".join(pos[\"title\"].split(\",\")) + \",\" + pos[\"seniority\"]+\",\"\n",
    "    location_data = \"\"\n",
    "    for loc in pos[\"locations\"]:\n",
    "        location_data+= \" \".join(loc.split(\",\"))+\"\\t\"\n",
    "    data_in_csv_format+=location_data + \",\"\n",
    "    needs = \"\"\n",
    "    for req in pos[\"requirements\"]:\n",
    "        needs += \" \".join(req.split(\",\")) +\"\\t\"\n",
    "    data_in_csv_format+=needs+ \"\\n\"\n",
    "    \n",
    "    \n",
    "with open(\"GoogleJobs.csv\", \"w\") as f:\n",
    "    f.write(data_in_csv_format)\n",
    "    "
   ]
  },
  {
   "cell_type": "markdown",
   "metadata": {},
   "source": [
    "# Another way to save file as csv"
   ]
  },
  {
   "cell_type": "code",
   "execution_count": 13,
   "metadata": {},
   "outputs": [
    {
     "name": "stdout",
     "output_type": "stream",
     "text": [
      "CSV file 'GoogleOpenings.csv' created successfully.\n"
     ]
    }
   ],
   "source": [
    "import csv\n",
    "\n",
    "csv_file_path = 'GoogleOpenings.csv'\n",
    "with open(csv_file_path, mode='w', newline='') as file:\n",
    "    writer = csv.writer(file)\n",
    "    writer.writerows(data_in_csv_format)\n",
    "\n",
    "print(f\"CSV file '{csv_file_path}' created successfully.\")"
   ]
  },
  {
   "cell_type": "code",
   "execution_count": 14,
   "metadata": {},
   "outputs": [
    {
     "name": "stdout",
     "output_type": "stream",
     "text": [
      "GoogleJobs.csv\tGoogleOpenings.csv  WebScraping.ipynb\r\n"
     ]
    }
   ],
   "source": [
    "!ls"
   ]
  },
  {
   "cell_type": "code",
   "execution_count": null,
   "metadata": {},
   "outputs": [],
   "source": []
  },
  {
   "cell_type": "code",
   "execution_count": null,
   "metadata": {},
   "outputs": [],
   "source": []
  },
  {
   "cell_type": "code",
   "execution_count": null,
   "metadata": {},
   "outputs": [],
   "source": []
  }
 ],
 "metadata": {
  "kernelspec": {
   "display_name": "Python 3",
   "language": "python",
   "name": "python3"
  },
  "language_info": {
   "codemirror_mode": {
    "name": "ipython",
    "version": 3
   },
   "file_extension": ".py",
   "mimetype": "text/x-python",
   "name": "python",
   "nbconvert_exporter": "python",
   "pygments_lexer": "ipython3",
   "version": "3.7.6"
  }
 },
 "nbformat": 4,
 "nbformat_minor": 4
}
